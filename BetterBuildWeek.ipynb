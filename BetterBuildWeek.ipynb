{
  "nbformat": 4,
  "nbformat_minor": 0,
  "metadata": {
    "colab": {
      "name": "BetterBuildWeek.ipynb",
      "provenance": [],
      "collapsed_sections": [],
      "include_colab_link": true
    },
    "kernelspec": {
      "name": "python3",
      "display_name": "Python 3"
    }
  },
  "cells": [
    {
      "cell_type": "markdown",
      "metadata": {
        "id": "view-in-github",
        "colab_type": "text"
      },
      "source": [
        "<a href=\"https://colab.research.google.com/github/ethanmjansen/LS_DS10_BuildWeek/blob/master/BetterBuildWeek.ipynb\" target=\"_parent\"><img src=\"https://colab.research.google.com/assets/colab-badge.svg\" alt=\"Open In Colab\"/></a>"
      ]
    },
    {
      "cell_type": "markdown",
      "metadata": {
        "id": "qtPDuUPZ9XuW",
        "colab_type": "text"
      },
      "source": [
        "#LS_DS10_Unit1_Build"
      ]
    },
    {
      "cell_type": "markdown",
      "metadata": {
        "id": "hHzx2I4f-G3H",
        "colab_type": "text"
      },
      "source": [
        "##Housekeeping  \n",
        "- Imports  \n",
        "- Creating DF  \n",
        "- Filtering  \n",
        "\n"
      ]
    },
    {
      "cell_type": "code",
      "metadata": {
        "id": "MIUSQj1dbo9X",
        "colab_type": "code",
        "colab": {}
      },
      "source": [
        "#imports\n",
        "import numpy as np\n",
        "import pandas as pd\n",
        "import matplotlib.pyplot as plt\n",
        "import matplotlib.style as style\n",
        "from google.colab import files\n",
        "import datetime\n",
        "import seaborn as sns\n",
        "from matplotlib import rc"
      ],
      "execution_count": 0,
      "outputs": []
    },
    {
      "cell_type": "code",
      "metadata": {
        "id": "vA872-VKRXVY",
        "colab_type": "code",
        "outputId": "5e53a346-0fd2-4c6d-ed4d-11c7761debf6",
        "colab": {
          "base_uri": "https://localhost:8080/",
          "height": 364
        }
      },
      "source": [
        "!wget 'https://github.com/ethanmjansen/LS_DS10_BuildWeek/blob/master/who-suicide-statistics.zip?raw=true' -O who-suicide-statistics.zip"
      ],
      "execution_count": 2,
      "outputs": [
        {
          "output_type": "stream",
          "text": [
            "--2019-11-21 23:52:14--  https://github.com/ethanmjansen/LS_DS10_BuildWeek/blob/master/who-suicide-statistics.zip?raw=true\n",
            "Resolving github.com (github.com)... 192.30.253.112\n",
            "Connecting to github.com (github.com)|192.30.253.112|:443... connected.\n",
            "HTTP request sent, awaiting response... 302 Found\n",
            "Location: https://github.com/ethanmjansen/LS_DS10_BuildWeek/raw/master/who-suicide-statistics.zip [following]\n",
            "--2019-11-21 23:52:15--  https://github.com/ethanmjansen/LS_DS10_BuildWeek/raw/master/who-suicide-statistics.zip\n",
            "Reusing existing connection to github.com:443.\n",
            "HTTP request sent, awaiting response... 302 Found\n",
            "Location: https://raw.githubusercontent.com/ethanmjansen/LS_DS10_BuildWeek/master/who-suicide-statistics.zip [following]\n",
            "--2019-11-21 23:52:15--  https://raw.githubusercontent.com/ethanmjansen/LS_DS10_BuildWeek/master/who-suicide-statistics.zip\n",
            "Resolving raw.githubusercontent.com (raw.githubusercontent.com)... 151.101.0.133, 151.101.64.133, 151.101.128.133, ...\n",
            "Connecting to raw.githubusercontent.com (raw.githubusercontent.com)|151.101.0.133|:443... connected.\n",
            "HTTP request sent, awaiting response... 200 OK\n",
            "Length: 311347 (304K) [application/zip]\n",
            "Saving to: ‘who-suicide-statistics.zip’\n",
            "\n",
            "who-suicide-statist 100%[===================>] 304.05K  --.-KB/s    in 0.05s   \n",
            "\n",
            "2019-11-21 23:52:15 (5.91 MB/s) - ‘who-suicide-statistics.zip’ saved [311347/311347]\n",
            "\n"
          ],
          "name": "stdout"
        }
      ]
    },
    {
      "cell_type": "code",
      "metadata": {
        "id": "56tvyN_HVQtr",
        "colab_type": "code",
        "outputId": "7c6656f1-e8c0-4cec-deb5-95b255634ca8",
        "colab": {
          "base_uri": "https://localhost:8080/",
          "height": 52
        }
      },
      "source": [
        "!unzip who-suicide-statistics.zip"
      ],
      "execution_count": 3,
      "outputs": [
        {
          "output_type": "stream",
          "text": [
            "Archive:  who-suicide-statistics.zip\n",
            "  inflating: who_suicide_statistics.csv  \n"
          ],
          "name": "stdout"
        }
      ]
    },
    {
      "cell_type": "code",
      "metadata": {
        "id": "xG6T-Ic3bxql",
        "colab_type": "code",
        "colab": {}
      },
      "source": [
        "#Creating the df\n",
        "df = pd.read_csv('who_suicide_statistics.csv')"
      ],
      "execution_count": 0,
      "outputs": []
    },
    {
      "cell_type": "code",
      "metadata": {
        "id": "1AKX0mtodFmN",
        "colab_type": "code",
        "colab": {}
      },
      "source": [
        "#Narrowing down to just 5 of the top ten GDP's\n",
        "df = df[(df['country'] == 'United States of America') |\n",
        "        (df['country'] == 'Japan') |\n",
        "        (df['country'] == 'Germany') |\n",
        "        (df['country'] == 'France') |\n",
        "        (df['country'] == 'United Kingdom')|\n",
        "        (df['country'] == 'South Korea')]\n",
        "                              "
      ],
      "execution_count": 0,
      "outputs": []
    },
    {
      "cell_type": "code",
      "metadata": {
        "id": "2AudIfjPnIRb",
        "colab_type": "code",
        "colab": {}
      },
      "source": [
        "#Narrowing down to a 15 year span around 2008\n",
        "df = df[(df['year'] > 1999) & (df['year'] <= 2017)]"
      ],
      "execution_count": 0,
      "outputs": []
    },
    {
      "cell_type": "code",
      "metadata": {
        "id": "K2IF0Y3EgRre",
        "colab_type": "code",
        "colab": {}
      },
      "source": [
        "#This just makes it cleaner in my opinion\n",
        "df.replace({'United States of America': 'USA'}, inplace=True)"
      ],
      "execution_count": 0,
      "outputs": []
    },
    {
      "cell_type": "markdown",
      "metadata": {
        "id": "QFd1E-q9-hD7",
        "colab_type": "text"
      },
      "source": [
        "##Feature Manipulation  \n",
        "- Add a Meaningful Feature\n",
        "- Clarify Proper Nouns"
      ]
    },
    {
      "cell_type": "code",
      "metadata": {
        "id": "i-HWseI-qmH-",
        "colab_type": "code",
        "colab": {}
      },
      "source": [
        "#Creating a suicide rate\n",
        "df['suicide_rate'] = df['suicides_no'] / df['population']"
      ],
      "execution_count": 0,
      "outputs": []
    },
    {
      "cell_type": "code",
      "metadata": {
        "id": "6CSFBRNeADac",
        "colab_type": "code",
        "colab": {}
      },
      "source": [
        "#rate per 100,000 people\n",
        "df['suicide_rate'] = df['suicide_rate'] * 100000"
      ],
      "execution_count": 0,
      "outputs": []
    },
    {
      "cell_type": "code",
      "metadata": {
        "id": "g0lcilgHpTZv",
        "colab_type": "code",
        "colab": {}
      },
      "source": [
        "#Changing country to Country\n",
        "df['Country'] = df['country']"
      ],
      "execution_count": 0,
      "outputs": []
    },
    {
      "cell_type": "code",
      "metadata": {
        "id": "5II7h7loetwg",
        "colab_type": "code",
        "outputId": "d529efa2-2d66-4adb-acac-a6b9111357c0",
        "colab": {
          "base_uri": "https://localhost:8080/",
          "height": 415
        }
      },
      "source": [
        "#Inspection\n",
        "df"
      ],
      "execution_count": 11,
      "outputs": [
        {
          "output_type": "execute_result",
          "data": {
            "text/html": [
              "<div>\n",
              "<style scoped>\n",
              "    .dataframe tbody tr th:only-of-type {\n",
              "        vertical-align: middle;\n",
              "    }\n",
              "\n",
              "    .dataframe tbody tr th {\n",
              "        vertical-align: top;\n",
              "    }\n",
              "\n",
              "    .dataframe thead th {\n",
              "        text-align: right;\n",
              "    }\n",
              "</style>\n",
              "<table border=\"1\" class=\"dataframe\">\n",
              "  <thead>\n",
              "    <tr style=\"text-align: right;\">\n",
              "      <th></th>\n",
              "      <th>country</th>\n",
              "      <th>year</th>\n",
              "      <th>sex</th>\n",
              "      <th>age</th>\n",
              "      <th>suicides_no</th>\n",
              "      <th>population</th>\n",
              "      <th>suicide_rate</th>\n",
              "      <th>Country</th>\n",
              "    </tr>\n",
              "  </thead>\n",
              "  <tbody>\n",
              "    <tr>\n",
              "      <th>14748</th>\n",
              "      <td>France</td>\n",
              "      <td>2000</td>\n",
              "      <td>female</td>\n",
              "      <td>15-24 years</td>\n",
              "      <td>137.0</td>\n",
              "      <td>3764091.0</td>\n",
              "      <td>3.639657</td>\n",
              "      <td>France</td>\n",
              "    </tr>\n",
              "    <tr>\n",
              "      <th>14749</th>\n",
              "      <td>France</td>\n",
              "      <td>2000</td>\n",
              "      <td>female</td>\n",
              "      <td>25-34 years</td>\n",
              "      <td>291.0</td>\n",
              "      <td>4188264.0</td>\n",
              "      <td>6.947986</td>\n",
              "      <td>France</td>\n",
              "    </tr>\n",
              "    <tr>\n",
              "      <th>14750</th>\n",
              "      <td>France</td>\n",
              "      <td>2000</td>\n",
              "      <td>female</td>\n",
              "      <td>35-54 years</td>\n",
              "      <td>1127.0</td>\n",
              "      <td>8501357.0</td>\n",
              "      <td>13.256707</td>\n",
              "      <td>France</td>\n",
              "    </tr>\n",
              "    <tr>\n",
              "      <th>14751</th>\n",
              "      <td>France</td>\n",
              "      <td>2000</td>\n",
              "      <td>female</td>\n",
              "      <td>5-14 years</td>\n",
              "      <td>8.0</td>\n",
              "      <td>3643220.0</td>\n",
              "      <td>0.219586</td>\n",
              "      <td>France</td>\n",
              "    </tr>\n",
              "    <tr>\n",
              "      <th>14752</th>\n",
              "      <td>France</td>\n",
              "      <td>2000</td>\n",
              "      <td>female</td>\n",
              "      <td>55-74 years</td>\n",
              "      <td>819.0</td>\n",
              "      <td>5646919.0</td>\n",
              "      <td>14.503484</td>\n",
              "      <td>France</td>\n",
              "    </tr>\n",
              "    <tr>\n",
              "      <th>...</th>\n",
              "      <td>...</td>\n",
              "      <td>...</td>\n",
              "      <td>...</td>\n",
              "      <td>...</td>\n",
              "      <td>...</td>\n",
              "      <td>...</td>\n",
              "      <td>...</td>\n",
              "      <td>...</td>\n",
              "    </tr>\n",
              "    <tr>\n",
              "      <th>42367</th>\n",
              "      <td>USA</td>\n",
              "      <td>2016</td>\n",
              "      <td>male</td>\n",
              "      <td>25-34 years</td>\n",
              "      <td>NaN</td>\n",
              "      <td>22511217.0</td>\n",
              "      <td>NaN</td>\n",
              "      <td>USA</td>\n",
              "    </tr>\n",
              "    <tr>\n",
              "      <th>42368</th>\n",
              "      <td>USA</td>\n",
              "      <td>2016</td>\n",
              "      <td>male</td>\n",
              "      <td>35-54 years</td>\n",
              "      <td>NaN</td>\n",
              "      <td>41481607.0</td>\n",
              "      <td>NaN</td>\n",
              "      <td>USA</td>\n",
              "    </tr>\n",
              "    <tr>\n",
              "      <th>42369</th>\n",
              "      <td>USA</td>\n",
              "      <td>2016</td>\n",
              "      <td>male</td>\n",
              "      <td>5-14 years</td>\n",
              "      <td>NaN</td>\n",
              "      <td>21313304.0</td>\n",
              "      <td>NaN</td>\n",
              "      <td>USA</td>\n",
              "    </tr>\n",
              "    <tr>\n",
              "      <th>42370</th>\n",
              "      <td>USA</td>\n",
              "      <td>2016</td>\n",
              "      <td>male</td>\n",
              "      <td>55-74 years</td>\n",
              "      <td>NaN</td>\n",
              "      <td>33121620.0</td>\n",
              "      <td>NaN</td>\n",
              "      <td>USA</td>\n",
              "    </tr>\n",
              "    <tr>\n",
              "      <th>42371</th>\n",
              "      <td>USA</td>\n",
              "      <td>2016</td>\n",
              "      <td>male</td>\n",
              "      <td>75+ years</td>\n",
              "      <td>NaN</td>\n",
              "      <td>8423833.0</td>\n",
              "      <td>NaN</td>\n",
              "      <td>USA</td>\n",
              "    </tr>\n",
              "  </tbody>\n",
              "</table>\n",
              "<p>972 rows × 8 columns</p>\n",
              "</div>"
            ],
            "text/plain": [
              "      country  year     sex  ...  population  suicide_rate  Country\n",
              "14748  France  2000  female  ...   3764091.0      3.639657   France\n",
              "14749  France  2000  female  ...   4188264.0      6.947986   France\n",
              "14750  France  2000  female  ...   8501357.0     13.256707   France\n",
              "14751  France  2000  female  ...   3643220.0      0.219586   France\n",
              "14752  France  2000  female  ...   5646919.0     14.503484   France\n",
              "...       ...   ...     ...  ...         ...           ...      ...\n",
              "42367     USA  2016    male  ...  22511217.0           NaN      USA\n",
              "42368     USA  2016    male  ...  41481607.0           NaN      USA\n",
              "42369     USA  2016    male  ...  21313304.0           NaN      USA\n",
              "42370     USA  2016    male  ...  33121620.0           NaN      USA\n",
              "42371     USA  2016    male  ...   8423833.0           NaN      USA\n",
              "\n",
              "[972 rows x 8 columns]"
            ]
          },
          "metadata": {
            "tags": []
          },
          "execution_count": 11
        }
      ]
    },
    {
      "cell_type": "markdown",
      "metadata": {
        "id": "mXt_D82h_2HV",
        "colab_type": "text"
      },
      "source": [
        "##First Visualization  "
      ]
    },
    {
      "cell_type": "code",
      "metadata": {
        "id": "_6dCxJ6HK3Bf",
        "colab_type": "code",
        "outputId": "cc6dbbfd-a5b5-4d02-8bbf-11dada782797",
        "colab": {
          "base_uri": "https://localhost:8080/",
          "height": 382
        }
      },
      "source": [
        "#Set Style\n",
        "style.use('fivethirtyeight')\n",
        "#Prototype\n",
        "ax = sns.lineplot(x='year',\n",
        "                  y='suicide_rate',\n",
        "                  data=df,\n",
        "                  hue='Country',\n",
        "                  err_style=None)\n",
        "\n",
        "# Adding a title and a subtitle\n",
        "plt.text(x = 1996.5, y = 30, s = \"Suicide Rate in The US Impacted by The Market Crash\",\n",
        "               fontsize = 20, weight = 'bold', alpha = .75)\n",
        "plt.text(x = 1996.5, y = 27,\n",
        "               s = 'The Suicide rate per 100,000 people between 2000 - 2015,  The US began to\\nconverge with other countries who had higher rates before the crash.',\n",
        "              fontsize = 14, alpha = .85)\n",
        "\n",
        "#Annotations\n",
        "ax.annotate('Lehman Brothers', xy=(2008.7, 13), xytext=(2003, 16),\n",
        "            arrowprops=dict(facecolor='black', shrink=0.05))\n",
        "ax.annotate('Sub-Prime Crisis', xy=(2007.1, 12.3), xytext=(2001.5, 8),\n",
        "            arrowprops=dict(facecolor='black', shrink=0.05))\n",
        "\n",
        "#Remove Labels\n",
        "plt.xlabel(None)\n",
        "plt.ylabel('Suicide Rate', fontsize=14)\n",
        "\n",
        "#Move Legend\n",
        "plt.legend(bbox_to_anchor=(1.05, 1),\n",
        "           loc='upper left',\n",
        "           borderaxespad=0.)\n",
        "\n",
        "#Tick Range\n",
        "plt.yticks(np.arange(5, 26, step=5))\n",
        "plt.xticks(np.arange(2000, 2015, step=2))\n",
        "\n",
        "#Bold the bottom line\n",
        "plt.axhline(y =5 , color = 'black', linewidth = 1.3, alpha = .7)\n",
        "\n",
        "#Signature\n",
        "plt.text(x = 1996.5, y = 0,\n",
        "    s = '\\u039B | EthanJansen                                                                         Source: https://www.kaggle.com/szamil/who-suicide-statistics',fontsize = 10, color = '#f0f0f0', backgroundcolor = 'grey')\n",
        "\n",
        "#Set Limits\n",
        "plt.ylim(bottom = 4, top = 25)\n",
        "plt.xlim(left = 1999, right = 2016)\n",
        "\n",
        "#Offset\n",
        "sns.despine(offset=10)"
      ],
      "execution_count": 12,
      "outputs": [
        {
          "output_type": "display_data",
          "data": {
            "image/png": "[encoded data removed]",
            "text/plain": [
              "<Figure size 432x288 with 1 Axes>"
            ]
          },
          "metadata": {
            "tags": []
          }
        }
      ]
    },
    {
      "cell_type": "markdown",
      "metadata": {
        "id": "BTi4aEchAS-M",
        "colab_type": "text"
      },
      "source": [
        "##Housekeeping  \n",
        "- Creating a Second DF  \n",
        "- Additional Filtering"
      ]
    },
    {
      "cell_type": "code",
      "metadata": {
        "id": "SsL5JjI3-88O",
        "colab_type": "code",
        "colab": {}
      },
      "source": [
        "#Making a new DF for a second visualization\n",
        "df2 = pd.read_csv('who_suicide_statistics.csv')"
      ],
      "execution_count": 0,
      "outputs": []
    },
    {
      "cell_type": "code",
      "metadata": {
        "id": "pDEZGeir_Qlk",
        "colab_type": "code",
        "colab": {}
      },
      "source": [
        "#Narrowing down to just the United States\n",
        "df2 = df2[(df2['country'] == 'United States of America')]"
      ],
      "execution_count": 0,
      "outputs": []
    },
    {
      "cell_type": "code",
      "metadata": {
        "id": "JdpNCIgXRIjb",
        "colab_type": "code",
        "colab": {}
      },
      "source": [
        "#Narrowing down to just the United States\n",
        "df2 = df2[(df2['age'] == '15-24 years') | \n",
        "          (df2['age'] == '25-34 years') | \n",
        "          (df2['age'] == '35-54 years') |  \n",
        "          (df2['age'] == '55-74 years') |  \n",
        "          (df2['age'] == '75+ years') ]"
      ],
      "execution_count": 0,
      "outputs": []
    },
    {
      "cell_type": "code",
      "metadata": {
        "id": "KCK9D6jpAIfF",
        "colab_type": "code",
        "colab": {}
      },
      "source": [
        "#Narrowing down to a 15 year span around 2008\n",
        "df2 = df2[(df2['year'] > 1999) & (df2['year'] <= 2015)]"
      ],
      "execution_count": 0,
      "outputs": []
    },
    {
      "cell_type": "code",
      "metadata": {
        "id": "2k_7yOURBNJ8",
        "colab_type": "code",
        "colab": {}
      },
      "source": [
        "#This just makes it cleaner in my opinion\n",
        "df2.replace({'United States of America': 'USA'}, inplace=True)\n",
        "df2.replace({'male': 'Male'}, inplace=True)\n",
        "df2.replace({'female': 'Female'}, inplace=True)"
      ],
      "execution_count": 0,
      "outputs": []
    },
    {
      "cell_type": "markdown",
      "metadata": {
        "id": "pWjaao1nA5NN",
        "colab_type": "text"
      },
      "source": [
        "##Feature Manipulation  \n",
        "- Add a Meaningful Feature  \n",
        "- Clarify Proper Nouns"
      ]
    },
    {
      "cell_type": "code",
      "metadata": {
        "id": "4TlJ6GrmA78p",
        "colab_type": "code",
        "colab": {}
      },
      "source": [
        "#Creating a suicide rate\n",
        "df2['suicide_rate'] = df2['suicides_no'] / df2['population']"
      ],
      "execution_count": 0,
      "outputs": []
    },
    {
      "cell_type": "code",
      "metadata": {
        "id": "cx62nB9mBbrd",
        "colab_type": "code",
        "colab": {}
      },
      "source": [
        "#Rate per 100,000 people\n",
        "df2['suicide_rate'] = df2['suicide_rate'] * 100000"
      ],
      "execution_count": 0,
      "outputs": []
    },
    {
      "cell_type": "code",
      "metadata": {
        "id": "VmeC_8QBBmoR",
        "colab_type": "code",
        "outputId": "1b262ab7-3737-470c-b91e-c88eb946d877",
        "colab": {
          "base_uri": "https://localhost:8080/",
          "height": 415
        }
      },
      "source": [
        "#Inspection\n",
        "df2"
      ],
      "execution_count": 20,
      "outputs": [
        {
          "output_type": "execute_result",
          "data": {
            "text/html": [
              "<div>\n",
              "<style scoped>\n",
              "    .dataframe tbody tr th:only-of-type {\n",
              "        vertical-align: middle;\n",
              "    }\n",
              "\n",
              "    .dataframe tbody tr th {\n",
              "        vertical-align: top;\n",
              "    }\n",
              "\n",
              "    .dataframe thead th {\n",
              "        text-align: right;\n",
              "    }\n",
              "</style>\n",
              "<table border=\"1\" class=\"dataframe\">\n",
              "  <thead>\n",
              "    <tr style=\"text-align: right;\">\n",
              "      <th></th>\n",
              "      <th>country</th>\n",
              "      <th>year</th>\n",
              "      <th>sex</th>\n",
              "      <th>age</th>\n",
              "      <th>suicides_no</th>\n",
              "      <th>population</th>\n",
              "      <th>suicide_rate</th>\n",
              "    </tr>\n",
              "  </thead>\n",
              "  <tbody>\n",
              "    <tr>\n",
              "      <th>42168</th>\n",
              "      <td>USA</td>\n",
              "      <td>2000</td>\n",
              "      <td>Female</td>\n",
              "      <td>15-24 years</td>\n",
              "      <td>570.0</td>\n",
              "      <td>19105073.0</td>\n",
              "      <td>2.983501</td>\n",
              "    </tr>\n",
              "    <tr>\n",
              "      <th>42169</th>\n",
              "      <td>USA</td>\n",
              "      <td>2000</td>\n",
              "      <td>Female</td>\n",
              "      <td>25-34 years</td>\n",
              "      <td>854.0</td>\n",
              "      <td>19771195.0</td>\n",
              "      <td>4.319415</td>\n",
              "    </tr>\n",
              "    <tr>\n",
              "      <th>42170</th>\n",
              "      <td>USA</td>\n",
              "      <td>2000</td>\n",
              "      <td>Female</td>\n",
              "      <td>35-54 years</td>\n",
              "      <td>2736.0</td>\n",
              "      <td>41881451.0</td>\n",
              "      <td>6.532725</td>\n",
              "    </tr>\n",
              "    <tr>\n",
              "      <th>42172</th>\n",
              "      <td>USA</td>\n",
              "      <td>2000</td>\n",
              "      <td>Female</td>\n",
              "      <td>55-74 years</td>\n",
              "      <td>1084.0</td>\n",
              "      <td>22717040.0</td>\n",
              "      <td>4.771748</td>\n",
              "    </tr>\n",
              "    <tr>\n",
              "      <th>42173</th>\n",
              "      <td>USA</td>\n",
              "      <td>2000</td>\n",
              "      <td>Female</td>\n",
              "      <td>75+ years</td>\n",
              "      <td>425.0</td>\n",
              "      <td>10494416.0</td>\n",
              "      <td>4.049773</td>\n",
              "    </tr>\n",
              "    <tr>\n",
              "      <th>...</th>\n",
              "      <td>...</td>\n",
              "      <td>...</td>\n",
              "      <td>...</td>\n",
              "      <td>...</td>\n",
              "      <td>...</td>\n",
              "      <td>...</td>\n",
              "      <td>...</td>\n",
              "    </tr>\n",
              "    <tr>\n",
              "      <th>42354</th>\n",
              "      <td>USA</td>\n",
              "      <td>2015</td>\n",
              "      <td>Male</td>\n",
              "      <td>15-24 years</td>\n",
              "      <td>4359.0</td>\n",
              "      <td>22615073.0</td>\n",
              "      <td>19.274755</td>\n",
              "    </tr>\n",
              "    <tr>\n",
              "      <th>42355</th>\n",
              "      <td>USA</td>\n",
              "      <td>2015</td>\n",
              "      <td>Male</td>\n",
              "      <td>25-34 years</td>\n",
              "      <td>5503.0</td>\n",
              "      <td>22137097.0</td>\n",
              "      <td>24.858725</td>\n",
              "    </tr>\n",
              "    <tr>\n",
              "      <th>42356</th>\n",
              "      <td>USA</td>\n",
              "      <td>2015</td>\n",
              "      <td>Male</td>\n",
              "      <td>35-54 years</td>\n",
              "      <td>11634.0</td>\n",
              "      <td>41658010.0</td>\n",
              "      <td>27.927402</td>\n",
              "    </tr>\n",
              "    <tr>\n",
              "      <th>42358</th>\n",
              "      <td>USA</td>\n",
              "      <td>2015</td>\n",
              "      <td>Male</td>\n",
              "      <td>55-74 years</td>\n",
              "      <td>9068.0</td>\n",
              "      <td>32264697.0</td>\n",
              "      <td>28.105021</td>\n",
              "    </tr>\n",
              "    <tr>\n",
              "      <th>42359</th>\n",
              "      <td>USA</td>\n",
              "      <td>2015</td>\n",
              "      <td>Male</td>\n",
              "      <td>75+ years</td>\n",
              "      <td>3171.0</td>\n",
              "      <td>8171136.0</td>\n",
              "      <td>38.807334</td>\n",
              "    </tr>\n",
              "  </tbody>\n",
              "</table>\n",
              "<p>160 rows × 7 columns</p>\n",
              "</div>"
            ],
            "text/plain": [
              "      country  year     sex          age  suicides_no  population  suicide_rate\n",
              "42168     USA  2000  Female  15-24 years        570.0  19105073.0      2.983501\n",
              "42169     USA  2000  Female  25-34 years        854.0  19771195.0      4.319415\n",
              "42170     USA  2000  Female  35-54 years       2736.0  41881451.0      6.532725\n",
              "42172     USA  2000  Female  55-74 years       1084.0  22717040.0      4.771748\n",
              "42173     USA  2000  Female    75+ years        425.0  10494416.0      4.049773\n",
              "...       ...   ...     ...          ...          ...         ...           ...\n",
              "42354     USA  2015    Male  15-24 years       4359.0  22615073.0     19.274755\n",
              "42355     USA  2015    Male  25-34 years       5503.0  22137097.0     24.858725\n",
              "42356     USA  2015    Male  35-54 years      11634.0  41658010.0     27.927402\n",
              "42358     USA  2015    Male  55-74 years       9068.0  32264697.0     28.105021\n",
              "42359     USA  2015    Male    75+ years       3171.0   8171136.0     38.807334\n",
              "\n",
              "[160 rows x 7 columns]"
            ]
          },
          "metadata": {
            "tags": []
          },
          "execution_count": 20
        }
      ]
    },
    {
      "cell_type": "markdown",
      "metadata": {
        "id": "fLwxEDoMB7R6",
        "colab_type": "text"
      },
      "source": [
        "##Second Visualization"
      ]
    },
    {
      "cell_type": "code",
      "metadata": {
        "id": "F54oZjotCbOZ",
        "colab_type": "code",
        "outputId": "7b6a01f7-00a9-4dff-8fdc-7e57f0c9023c",
        "colab": {
          "base_uri": "https://localhost:8080/",
          "height": 384
        }
      },
      "source": [
        "#Set Style\n",
        "style.use('fivethirtyeight')\n",
        "\n",
        "ax = sns.barplot(x=\"suicide_rate\", y=\"age\", hue=\"sex\", orient='h', data=df2, errwidth=False)\n",
        "\n",
        "# Adding a title and a subtitle\n",
        "plt.text(x = -6.2, y = -1.5, s = \"Demographics in The US Not Effected Equally\",\n",
        "               fontsize = 20, weight = 'bold', alpha = .75)\n",
        "plt.text(x = -6.2, y = -0.75,\n",
        "               s = 'The Suicide rate per 100,000 people between 2000 - 2015 in the US,\\nmen over the age of 75 were most effected.',\n",
        "              fontsize = 14, weight='normal', alpha = .85)\n",
        "\n",
        "#Make ticks normal\n",
        "ax.set_yticklabels(['15-24', '25-34', '35-54', '55-74', '75+'],\n",
        "                   color = 'black',\n",
        "                   fontsize = 12, weight='normal')\n",
        "plt.xticks(np.arange(0, 40, step=5), fontsize= 14, weight='normal')\n",
        "\n",
        "#Remove Labels\n",
        "plt.xlabel('Suicide Rate', fontsize=14)\n",
        "plt.ylabel('Age', fontsize=14)\n",
        "\n",
        "#Invert yaxis\n",
        "ax.invert_yaxis\n",
        "\n",
        "#Signature\n",
        "plt.text(x = -6.2, y = 5.7,\n",
        "    s = '\\u039B | EthanJansen                                         Source: https://www.kaggle.com/szamil/who-suicide-statistics',fontsize = 10, color = '#f0f0f0', backgroundcolor = 'grey')\n",
        "\n",
        "legend_properties = {'weight':'normal'}\n",
        "\n",
        "#Move Legend\n",
        "plt.legend(prop=legend_properties, bbox_to_anchor=(.93, 1),\n",
        "           loc='upper left', fontsize=14,\n",
        "           borderaxespad=0.);\n"
      ],
      "execution_count": 21,
      "outputs": [
        {
          "output_type": "display_data",
          "data": {
            "image/png": "[encoded data removed]",
            "text/plain": [
              "<Figure size 432x288 with 1 Axes>"
            ]
          },
          "metadata": {
            "tags": []
          }
        }
      ]
    }
  ]
}